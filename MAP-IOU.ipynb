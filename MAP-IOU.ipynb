{
 "cells": [
  {
   "cell_type": "code",
   "execution_count": 5,
   "metadata": {
    "collapsed": true
   },
   "outputs": [],
   "source": [
    "import numpy as np\n",
    "predict = np.load('./test/predict.npy')\n",
    "label = np.load('./test/label.npy')"
   ]
  },
  {
   "cell_type": "code",
   "execution_count": 6,
   "metadata": {
    "collapsed": true
   },
   "outputs": [],
   "source": [
    "mAP = []\n",
    "for i in range(len(predict)):\n",
    "    scalar = 0\n",
    "    hit = 0\n",
    "    for j in range(32):\n",
    "        if predict[i][j]!=20 or label[i][j]!=20:\n",
    "            scalar += 1\n",
    "            if predict[i][j] == label[i][j]:\n",
    "                hit += 1\n",
    "    mAP.append(float(hit)/scalar)"
   ]
  },
  {
   "cell_type": "code",
   "execution_count": 8,
   "metadata": {},
   "outputs": [
    {
     "name": "stdout",
     "output_type": "stream",
     "text": [
      "0.000595592614652\n"
     ]
    }
   ],
   "source": [
    "sum = 0\n",
    "for i in mAP:\n",
    "    if i > 0.5:\n",
    "        sum += 1\n",
    "print float(sum)/3358"
   ]
  },
  {
   "cell_type": "code",
   "execution_count": null,
   "metadata": {
    "collapsed": true
   },
   "outputs": [],
   "source": []
  }
 ],
 "metadata": {
  "kernelspec": {
   "display_name": "Python [default]",
   "language": "python",
   "name": "python2"
  },
  "language_info": {
   "codemirror_mode": {
    "name": "ipython",
    "version": 2
   },
   "file_extension": ".py",
   "mimetype": "text/x-python",
   "name": "python",
   "nbconvert_exporter": "python",
   "pygments_lexer": "ipython2",
   "version": "2.7.13"
  }
 },
 "nbformat": 4,
 "nbformat_minor": 2
}
