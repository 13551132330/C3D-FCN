{
 "cells": [
  {
   "cell_type": "code",
   "execution_count": 2,
   "metadata": {},
   "outputs": [
    {
     "name": "stdout",
     "output_type": "stream",
     "text": [
      "3358\n"
     ]
    }
   ],
   "source": [
    "import os\n",
    "\n",
    "f = open('classic.txt','r')\n",
    "train_list = open('test.list','a+')\n",
    "\n",
    "dict_ucf = {}\n",
    "dict = {}\n",
    "list_label = []\n",
    "for i in f:\n",
    "    pre_list = open('c3dtrain.list', 'r')\n",
    "    classic = i.split()[0]\n",
    "    pre_class = i.split()[1]\n",
    "    name = i.split()[2]\n",
    "    dict[name] = classic\n",
    "    dict_ucf[pre_class] = classic\n",
    "    list_label.append(pre_class)\n",
    "\n",
    "f.close()\n",
    "path = os.getcwd()\n",
    "\n",
    "sum = 0\n",
    "data = '/data1/home/linzhikun2/THUMOS14/test'\n",
    "for i in os.listdir(os.path.join(path,'test_list')):\n",
    "    classic_name = i.split('_')[0]\n",
    "    classic_num = dict[classic_name]\n",
    "    if classic_name!='Ambiguous':\n",
    "        list = open(os.path.join(path,'test_list','%s'%i),'r')\n",
    "        for i in list:\n",
    "            video_name = i.split()[0]\n",
    "            start_time = i.split()[1]\n",
    "            end_time = i.split()[2]\n",
    "            train_list.write(os.path.join(data, video_name) + ','+classic_num+','+ start_time + ' ' + end_time + '\\n')\n",
    "            sum += 1\n",
    "        \n",
    "print sum"
   ]
  },
  {
   "cell_type": "code",
   "execution_count": null,
   "metadata": {
    "collapsed": true
   },
   "outputs": [],
   "source": []
  },
  {
   "cell_type": "code",
   "execution_count": null,
   "metadata": {
    "collapsed": true
   },
   "outputs": [],
   "source": []
  }
 ],
 "metadata": {
  "kernelspec": {
   "display_name": "Python [conda env:testcaffe]",
   "language": "python",
   "name": "conda-env-testcaffe-py"
  },
  "language_info": {
   "codemirror_mode": {
    "name": "ipython",
    "version": 2
   },
   "file_extension": ".py",
   "mimetype": "text/x-python",
   "name": "python",
   "nbconvert_exporter": "python",
   "pygments_lexer": "ipython2",
   "version": "2.7.13"
  }
 },
 "nbformat": 4,
 "nbformat_minor": 2
}
